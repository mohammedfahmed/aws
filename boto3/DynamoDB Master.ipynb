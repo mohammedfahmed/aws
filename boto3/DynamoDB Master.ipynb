{
 "cells": [
  {
   "cell_type": "markdown",
   "metadata": {},
   "source": [
    "# Getting Started with Dynamo DB AWS with Soumil Shah\n",
    "\n",
    "\n",
    "## Soumil Nitin Shah \n",
    "Bachelor in Electronic Engineering |\n",
    "Masters in Electrical Engineering | \n",
    "Master in Computer Engineering |\n",
    "\n",
    "* Website : https://soumilshah.herokuapp.com\n",
    "* Github: https://github.com/soumilshah1995\n",
    "* Linkedin: https://www.linkedin.com/in/shah-soumil/\n",
    "* Blog: https://soumilshah1995.blogspot.com/\n",
    "* Youtube : https://www.youtube.com/channel/UC_eOodxvwS_H7x2uLQa-svw?view_as=subscriber\n",
    "* Facebook Page : https://www.facebook.com/soumilshah1995/\n",
    "* Email : shahsoumil519@gmail.com\n",
    "* projects : https://soumilshah.herokuapp.com/project\n",
    "\n",
    "\n",
    "Hello! I’m Soumil Nitin Shah, a Software and Hardware Developer based in New York City. I have completed by Bachelor in Electronic Engineering and my Double master’s in Computer and Electrical Engineering. I Develop Python Based Cross Platform Desktop Application , Webpages , Software, REST API, Database and much more I have more than 2 Years of Experience in Python"
   ]
  },
  {
   "cell_type": "code",
   "execution_count": 4,
   "metadata": {},
   "outputs": [
    {
     "name": "stdout",
     "output_type": "stream",
     "text": [
      "All Modules Loaded ...... \n"
     ]
    }
   ],
   "source": [
    "try:\n",
    "    import os\n",
    "    import sys\n",
    "    import datetime\n",
    "    import time\n",
    "    import boto3\n",
    "    print(\"All Modules Loaded ...... \")\n",
    "except Exception as e:\n",
    "    print(\"Error {}\".format(e))\n",
    "\n",
    "\n",
    "class MyDb(object):\n",
    "\n",
    "    def __init__(self, Table_Name ='DHT'):\n",
    "        self.Table_Name=Table_Name\n",
    "        self.db = boto3.resource('dynamodb')\n",
    "        self.table = self.db.Table(Table_Name)\n",
    "\n",
    "        self.client = boto3.client('dynamodb')\n",
    "\n",
    "    @property\n",
    "    def get(self):\n",
    "        response = self.table.get_item(\n",
    "            Key={\n",
    "                'Sensor_Id':\"1\"\n",
    "            }\n",
    "        )\n",
    "\n",
    "        return response\n",
    "\n",
    "    def put(self, Sensor_Id='' , Temperature='', Humidity=''):\n",
    "        self.table.put_item(\n",
    "            Item={\n",
    "                'Sensor_Id':Sensor_Id,\n",
    "                'Temperature':Temperature,\n",
    "                'Humidity' :Humidity\n",
    "            }\n",
    "        )\n",
    "\n",
    "    def delete(self,Sensor_Id=''):\n",
    "        self.table.delete_item(\n",
    "            Key={\n",
    "                'Sensor_Id': Sensor_Id\n",
    "            }\n",
    "        )\n",
    "\n",
    "    def describe_table(self):\n",
    "        response = self.client.describe_table(\n",
    "            TableName='DHT'\n",
    "        )\n",
    "        return response\n"
   ]
  },
  {
   "cell_type": "markdown",
   "metadata": {},
   "source": [
    "##### Getting Table Information"
   ]
  },
  {
   "cell_type": "code",
   "execution_count": 6,
   "metadata": {},
   "outputs": [
    {
     "name": "stdout",
     "output_type": "stream",
     "text": [
      "{'Table': {'AttributeDefinitions': [{'AttributeName': 'Sensor_Id', 'AttributeType': 'S'}], 'TableName': 'DHT', 'KeySchema': [{'AttributeName': 'Sensor_Id', 'KeyType': 'HASH'}], 'TableStatus': 'ACTIVE', 'CreationDateTime': datetime.datetime(2019, 8, 3, 10, 51, 39, 904000, tzinfo=tzlocal()), 'ProvisionedThroughput': {'NumberOfDecreasesToday': 0, 'ReadCapacityUnits': 5, 'WriteCapacityUnits': 5}, 'TableSizeBytes': 0, 'ItemCount': 0, 'TableArn': 'arn:aws:dynamodb:us-east-1:537705251446:table/DHT', 'TableId': '95cefd8a-63c3-42ba-942c-a212c2f984bf'}, 'ResponseMetadata': {'RequestId': 'GE6U7IEJOAOL0123JQIG5VJLHNVV4KQNSO5AEMVJF66Q9ASUAAJG', 'HTTPStatusCode': 200, 'HTTPHeaders': {'server': 'Server', 'date': 'Sat, 03 Aug 2019 18:05:27 GMT', 'content-type': 'application/x-amz-json-1.0', 'content-length': '467', 'connection': 'keep-alive', 'x-amzn-requestid': 'GE6U7IEJOAOL0123JQIG5VJLHNVV4KQNSO5AEMVJF66Q9ASUAAJG', 'x-amz-crc32': '3612937208'}, 'RetryAttempts': 0}}\n"
     ]
    }
   ],
   "source": [
    "obj = MyDb()\n",
    "print(obj.describe_table())\n",
    "#data = obj.get\n",
    "#print(data)\n",
    "#obj.put(Sensor_Id='2', Temperature='66', Humidity='66')\n",
    "#obj.delete(Sensor_Id=\"2\")"
   ]
  },
  {
   "cell_type": "markdown",
   "metadata": {},
   "source": [
    "#### Get the Sensor Value from DynamoDB"
   ]
  },
  {
   "cell_type": "code",
   "execution_count": 11,
   "metadata": {},
   "outputs": [
    {
     "data": {
      "text/plain": [
       "{'Item': {'Humidity': '60.0', 'Sensor_Id': '1', 'Temperature': '29.0'},\n",
       " 'ResponseMetadata': {'RequestId': '22O0O95MCJ3J8JBQLSC5L76K3NVV4KQNSO5AEMVJF66Q9ASUAAJG',\n",
       "  'HTTPStatusCode': 200,\n",
       "  'HTTPHeaders': {'server': 'Server',\n",
       "   'date': 'Sat, 03 Aug 2019 18:06:54 GMT',\n",
       "   'content-type': 'application/x-amz-json-1.0',\n",
       "   'content-length': '83',\n",
       "   'connection': 'keep-alive',\n",
       "   'x-amzn-requestid': '22O0O95MCJ3J8JBQLSC5L76K3NVV4KQNSO5AEMVJF66Q9ASUAAJG',\n",
       "   'x-amz-crc32': '2056729494'},\n",
       "  'RetryAttempts': 0}}"
      ]
     },
     "execution_count": 11,
     "metadata": {},
     "output_type": "execute_result"
    }
   ],
   "source": [
    "data = obj.get\n",
    "data"
   ]
  },
  {
   "cell_type": "markdown",
   "metadata": {},
   "source": [
    "#### Insert value on Dynamo DB"
   ]
  },
  {
   "cell_type": "code",
   "execution_count": 12,
   "metadata": {},
   "outputs": [],
   "source": [
    "resp = obj.put(Sensor_Id='2', Temperature='99', Humidity='99')\n",
    "resp"
   ]
  },
  {
   "cell_type": "markdown",
   "metadata": {},
   "source": [
    "##### Delete Value from Dynamo DB"
   ]
  },
  {
   "cell_type": "code",
   "execution_count": null,
   "metadata": {},
   "outputs": [],
   "source": []
  },
  {
   "cell_type": "code",
   "execution_count": null,
   "metadata": {},
   "outputs": [],
   "source": []
  }
 ],
 "metadata": {
  "kernelspec": {
   "display_name": "Python 3",
   "language": "python",
   "name": "python3"
  },
  "language_info": {
   "codemirror_mode": {
    "name": "ipython",
    "version": 3
   },
   "file_extension": ".py",
   "mimetype": "text/x-python",
   "name": "python",
   "nbconvert_exporter": "python",
   "pygments_lexer": "ipython3",
   "version": "3.7.3"
  }
 },
 "nbformat": 4,
 "nbformat_minor": 2
}
